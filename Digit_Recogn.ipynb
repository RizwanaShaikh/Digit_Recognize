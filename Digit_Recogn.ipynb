{
 "cells": [
  {
   "cell_type": "code",
   "execution_count": 1,
   "metadata": {},
   "outputs": [],
   "source": [
    "import numpy as np\n",
    "import pandas as pd\n",
    "%matplotlib inline\n",
    "import matplotlib as mpl\n",
    "import matplotlib.pyplot as plt"
   ]
  },
  {
   "cell_type": "code",
   "execution_count": 2,
   "metadata": {},
   "outputs": [
    {
     "data": {
      "text/plain": [
       "'1.19.2'"
      ]
     },
     "execution_count": 2,
     "metadata": {},
     "output_type": "execute_result"
    }
   ],
   "source": [
    "np.__version__"
   ]
  },
  {
   "cell_type": "code",
   "execution_count": 3,
   "metadata": {},
   "outputs": [],
   "source": [
    "import tensorflow as tf\n",
    "from tensorflow import keras "
   ]
  },
  {
   "cell_type": "code",
   "execution_count": 5,
   "metadata": {},
   "outputs": [],
   "source": [
    "train_data_main = pd.read_csv(\"F:/DataSets/Digit Recognizer/train.csv\",encoding='utf-8', dtype=np.float32)\n",
    "test_data_main = pd.read_csv(\"F:/DataSets/Digit Recognizer/test.csv\",encoding='utf-8', dtype=np.float32)"
   ]
  },
  {
   "cell_type": "code",
   "execution_count": 6,
   "metadata": {},
   "outputs": [
    {
     "data": {
      "text/html": [
       "<div>\n",
       "<style scoped>\n",
       "    .dataframe tbody tr th:only-of-type {\n",
       "        vertical-align: middle;\n",
       "    }\n",
       "\n",
       "    .dataframe tbody tr th {\n",
       "        vertical-align: top;\n",
       "    }\n",
       "\n",
       "    .dataframe thead th {\n",
       "        text-align: right;\n",
       "    }\n",
       "</style>\n",
       "<table border=\"1\" class=\"dataframe\">\n",
       "  <thead>\n",
       "    <tr style=\"text-align: right;\">\n",
       "      <th></th>\n",
       "      <th>label</th>\n",
       "      <th>pixel0</th>\n",
       "      <th>pixel1</th>\n",
       "      <th>pixel2</th>\n",
       "      <th>pixel3</th>\n",
       "      <th>pixel4</th>\n",
       "      <th>pixel5</th>\n",
       "      <th>pixel6</th>\n",
       "      <th>pixel7</th>\n",
       "      <th>pixel8</th>\n",
       "      <th>...</th>\n",
       "      <th>pixel774</th>\n",
       "      <th>pixel775</th>\n",
       "      <th>pixel776</th>\n",
       "      <th>pixel777</th>\n",
       "      <th>pixel778</th>\n",
       "      <th>pixel779</th>\n",
       "      <th>pixel780</th>\n",
       "      <th>pixel781</th>\n",
       "      <th>pixel782</th>\n",
       "      <th>pixel783</th>\n",
       "    </tr>\n",
       "  </thead>\n",
       "  <tbody>\n",
       "    <tr>\n",
       "      <th>0</th>\n",
       "      <td>1.0</td>\n",
       "      <td>0.0</td>\n",
       "      <td>0.0</td>\n",
       "      <td>0.0</td>\n",
       "      <td>0.0</td>\n",
       "      <td>0.0</td>\n",
       "      <td>0.0</td>\n",
       "      <td>0.0</td>\n",
       "      <td>0.0</td>\n",
       "      <td>0.0</td>\n",
       "      <td>...</td>\n",
       "      <td>0.0</td>\n",
       "      <td>0.0</td>\n",
       "      <td>0.0</td>\n",
       "      <td>0.0</td>\n",
       "      <td>0.0</td>\n",
       "      <td>0.0</td>\n",
       "      <td>0.0</td>\n",
       "      <td>0.0</td>\n",
       "      <td>0.0</td>\n",
       "      <td>0.0</td>\n",
       "    </tr>\n",
       "    <tr>\n",
       "      <th>1</th>\n",
       "      <td>0.0</td>\n",
       "      <td>0.0</td>\n",
       "      <td>0.0</td>\n",
       "      <td>0.0</td>\n",
       "      <td>0.0</td>\n",
       "      <td>0.0</td>\n",
       "      <td>0.0</td>\n",
       "      <td>0.0</td>\n",
       "      <td>0.0</td>\n",
       "      <td>0.0</td>\n",
       "      <td>...</td>\n",
       "      <td>0.0</td>\n",
       "      <td>0.0</td>\n",
       "      <td>0.0</td>\n",
       "      <td>0.0</td>\n",
       "      <td>0.0</td>\n",
       "      <td>0.0</td>\n",
       "      <td>0.0</td>\n",
       "      <td>0.0</td>\n",
       "      <td>0.0</td>\n",
       "      <td>0.0</td>\n",
       "    </tr>\n",
       "    <tr>\n",
       "      <th>2</th>\n",
       "      <td>1.0</td>\n",
       "      <td>0.0</td>\n",
       "      <td>0.0</td>\n",
       "      <td>0.0</td>\n",
       "      <td>0.0</td>\n",
       "      <td>0.0</td>\n",
       "      <td>0.0</td>\n",
       "      <td>0.0</td>\n",
       "      <td>0.0</td>\n",
       "      <td>0.0</td>\n",
       "      <td>...</td>\n",
       "      <td>0.0</td>\n",
       "      <td>0.0</td>\n",
       "      <td>0.0</td>\n",
       "      <td>0.0</td>\n",
       "      <td>0.0</td>\n",
       "      <td>0.0</td>\n",
       "      <td>0.0</td>\n",
       "      <td>0.0</td>\n",
       "      <td>0.0</td>\n",
       "      <td>0.0</td>\n",
       "    </tr>\n",
       "    <tr>\n",
       "      <th>3</th>\n",
       "      <td>4.0</td>\n",
       "      <td>0.0</td>\n",
       "      <td>0.0</td>\n",
       "      <td>0.0</td>\n",
       "      <td>0.0</td>\n",
       "      <td>0.0</td>\n",
       "      <td>0.0</td>\n",
       "      <td>0.0</td>\n",
       "      <td>0.0</td>\n",
       "      <td>0.0</td>\n",
       "      <td>...</td>\n",
       "      <td>0.0</td>\n",
       "      <td>0.0</td>\n",
       "      <td>0.0</td>\n",
       "      <td>0.0</td>\n",
       "      <td>0.0</td>\n",
       "      <td>0.0</td>\n",
       "      <td>0.0</td>\n",
       "      <td>0.0</td>\n",
       "      <td>0.0</td>\n",
       "      <td>0.0</td>\n",
       "    </tr>\n",
       "    <tr>\n",
       "      <th>4</th>\n",
       "      <td>0.0</td>\n",
       "      <td>0.0</td>\n",
       "      <td>0.0</td>\n",
       "      <td>0.0</td>\n",
       "      <td>0.0</td>\n",
       "      <td>0.0</td>\n",
       "      <td>0.0</td>\n",
       "      <td>0.0</td>\n",
       "      <td>0.0</td>\n",
       "      <td>0.0</td>\n",
       "      <td>...</td>\n",
       "      <td>0.0</td>\n",
       "      <td>0.0</td>\n",
       "      <td>0.0</td>\n",
       "      <td>0.0</td>\n",
       "      <td>0.0</td>\n",
       "      <td>0.0</td>\n",
       "      <td>0.0</td>\n",
       "      <td>0.0</td>\n",
       "      <td>0.0</td>\n",
       "      <td>0.0</td>\n",
       "    </tr>\n",
       "  </tbody>\n",
       "</table>\n",
       "<p>5 rows × 785 columns</p>\n",
       "</div>"
      ],
      "text/plain": [
       "   label  pixel0  pixel1  pixel2  pixel3  pixel4  pixel5  pixel6  pixel7  \\\n",
       "0    1.0     0.0     0.0     0.0     0.0     0.0     0.0     0.0     0.0   \n",
       "1    0.0     0.0     0.0     0.0     0.0     0.0     0.0     0.0     0.0   \n",
       "2    1.0     0.0     0.0     0.0     0.0     0.0     0.0     0.0     0.0   \n",
       "3    4.0     0.0     0.0     0.0     0.0     0.0     0.0     0.0     0.0   \n",
       "4    0.0     0.0     0.0     0.0     0.0     0.0     0.0     0.0     0.0   \n",
       "\n",
       "   pixel8  ...  pixel774  pixel775  pixel776  pixel777  pixel778  pixel779  \\\n",
       "0     0.0  ...       0.0       0.0       0.0       0.0       0.0       0.0   \n",
       "1     0.0  ...       0.0       0.0       0.0       0.0       0.0       0.0   \n",
       "2     0.0  ...       0.0       0.0       0.0       0.0       0.0       0.0   \n",
       "3     0.0  ...       0.0       0.0       0.0       0.0       0.0       0.0   \n",
       "4     0.0  ...       0.0       0.0       0.0       0.0       0.0       0.0   \n",
       "\n",
       "   pixel780  pixel781  pixel782  pixel783  \n",
       "0       0.0       0.0       0.0       0.0  \n",
       "1       0.0       0.0       0.0       0.0  \n",
       "2       0.0       0.0       0.0       0.0  \n",
       "3       0.0       0.0       0.0       0.0  \n",
       "4       0.0       0.0       0.0       0.0  \n",
       "\n",
       "[5 rows x 785 columns]"
      ]
     },
     "execution_count": 6,
     "metadata": {},
     "output_type": "execute_result"
    }
   ],
   "source": [
    "train_data_main.head()"
   ]
  },
  {
   "cell_type": "code",
   "execution_count": 7,
   "metadata": {},
   "outputs": [
    {
     "data": {
      "text/html": [
       "<div>\n",
       "<style scoped>\n",
       "    .dataframe tbody tr th:only-of-type {\n",
       "        vertical-align: middle;\n",
       "    }\n",
       "\n",
       "    .dataframe tbody tr th {\n",
       "        vertical-align: top;\n",
       "    }\n",
       "\n",
       "    .dataframe thead th {\n",
       "        text-align: right;\n",
       "    }\n",
       "</style>\n",
       "<table border=\"1\" class=\"dataframe\">\n",
       "  <thead>\n",
       "    <tr style=\"text-align: right;\">\n",
       "      <th></th>\n",
       "      <th>pixel0</th>\n",
       "      <th>pixel1</th>\n",
       "      <th>pixel2</th>\n",
       "      <th>pixel3</th>\n",
       "      <th>pixel4</th>\n",
       "      <th>pixel5</th>\n",
       "      <th>pixel6</th>\n",
       "      <th>pixel7</th>\n",
       "      <th>pixel8</th>\n",
       "      <th>pixel9</th>\n",
       "      <th>...</th>\n",
       "      <th>pixel774</th>\n",
       "      <th>pixel775</th>\n",
       "      <th>pixel776</th>\n",
       "      <th>pixel777</th>\n",
       "      <th>pixel778</th>\n",
       "      <th>pixel779</th>\n",
       "      <th>pixel780</th>\n",
       "      <th>pixel781</th>\n",
       "      <th>pixel782</th>\n",
       "      <th>pixel783</th>\n",
       "    </tr>\n",
       "  </thead>\n",
       "  <tbody>\n",
       "    <tr>\n",
       "      <th>0</th>\n",
       "      <td>0.0</td>\n",
       "      <td>0.0</td>\n",
       "      <td>0.0</td>\n",
       "      <td>0.0</td>\n",
       "      <td>0.0</td>\n",
       "      <td>0.0</td>\n",
       "      <td>0.0</td>\n",
       "      <td>0.0</td>\n",
       "      <td>0.0</td>\n",
       "      <td>0.0</td>\n",
       "      <td>...</td>\n",
       "      <td>0.0</td>\n",
       "      <td>0.0</td>\n",
       "      <td>0.0</td>\n",
       "      <td>0.0</td>\n",
       "      <td>0.0</td>\n",
       "      <td>0.0</td>\n",
       "      <td>0.0</td>\n",
       "      <td>0.0</td>\n",
       "      <td>0.0</td>\n",
       "      <td>0.0</td>\n",
       "    </tr>\n",
       "    <tr>\n",
       "      <th>1</th>\n",
       "      <td>0.0</td>\n",
       "      <td>0.0</td>\n",
       "      <td>0.0</td>\n",
       "      <td>0.0</td>\n",
       "      <td>0.0</td>\n",
       "      <td>0.0</td>\n",
       "      <td>0.0</td>\n",
       "      <td>0.0</td>\n",
       "      <td>0.0</td>\n",
       "      <td>0.0</td>\n",
       "      <td>...</td>\n",
       "      <td>0.0</td>\n",
       "      <td>0.0</td>\n",
       "      <td>0.0</td>\n",
       "      <td>0.0</td>\n",
       "      <td>0.0</td>\n",
       "      <td>0.0</td>\n",
       "      <td>0.0</td>\n",
       "      <td>0.0</td>\n",
       "      <td>0.0</td>\n",
       "      <td>0.0</td>\n",
       "    </tr>\n",
       "    <tr>\n",
       "      <th>2</th>\n",
       "      <td>0.0</td>\n",
       "      <td>0.0</td>\n",
       "      <td>0.0</td>\n",
       "      <td>0.0</td>\n",
       "      <td>0.0</td>\n",
       "      <td>0.0</td>\n",
       "      <td>0.0</td>\n",
       "      <td>0.0</td>\n",
       "      <td>0.0</td>\n",
       "      <td>0.0</td>\n",
       "      <td>...</td>\n",
       "      <td>0.0</td>\n",
       "      <td>0.0</td>\n",
       "      <td>0.0</td>\n",
       "      <td>0.0</td>\n",
       "      <td>0.0</td>\n",
       "      <td>0.0</td>\n",
       "      <td>0.0</td>\n",
       "      <td>0.0</td>\n",
       "      <td>0.0</td>\n",
       "      <td>0.0</td>\n",
       "    </tr>\n",
       "    <tr>\n",
       "      <th>3</th>\n",
       "      <td>0.0</td>\n",
       "      <td>0.0</td>\n",
       "      <td>0.0</td>\n",
       "      <td>0.0</td>\n",
       "      <td>0.0</td>\n",
       "      <td>0.0</td>\n",
       "      <td>0.0</td>\n",
       "      <td>0.0</td>\n",
       "      <td>0.0</td>\n",
       "      <td>0.0</td>\n",
       "      <td>...</td>\n",
       "      <td>0.0</td>\n",
       "      <td>0.0</td>\n",
       "      <td>0.0</td>\n",
       "      <td>0.0</td>\n",
       "      <td>0.0</td>\n",
       "      <td>0.0</td>\n",
       "      <td>0.0</td>\n",
       "      <td>0.0</td>\n",
       "      <td>0.0</td>\n",
       "      <td>0.0</td>\n",
       "    </tr>\n",
       "    <tr>\n",
       "      <th>4</th>\n",
       "      <td>0.0</td>\n",
       "      <td>0.0</td>\n",
       "      <td>0.0</td>\n",
       "      <td>0.0</td>\n",
       "      <td>0.0</td>\n",
       "      <td>0.0</td>\n",
       "      <td>0.0</td>\n",
       "      <td>0.0</td>\n",
       "      <td>0.0</td>\n",
       "      <td>0.0</td>\n",
       "      <td>...</td>\n",
       "      <td>0.0</td>\n",
       "      <td>0.0</td>\n",
       "      <td>0.0</td>\n",
       "      <td>0.0</td>\n",
       "      <td>0.0</td>\n",
       "      <td>0.0</td>\n",
       "      <td>0.0</td>\n",
       "      <td>0.0</td>\n",
       "      <td>0.0</td>\n",
       "      <td>0.0</td>\n",
       "    </tr>\n",
       "  </tbody>\n",
       "</table>\n",
       "<p>5 rows × 784 columns</p>\n",
       "</div>"
      ],
      "text/plain": [
       "   pixel0  pixel1  pixel2  pixel3  pixel4  pixel5  pixel6  pixel7  pixel8  \\\n",
       "0     0.0     0.0     0.0     0.0     0.0     0.0     0.0     0.0     0.0   \n",
       "1     0.0     0.0     0.0     0.0     0.0     0.0     0.0     0.0     0.0   \n",
       "2     0.0     0.0     0.0     0.0     0.0     0.0     0.0     0.0     0.0   \n",
       "3     0.0     0.0     0.0     0.0     0.0     0.0     0.0     0.0     0.0   \n",
       "4     0.0     0.0     0.0     0.0     0.0     0.0     0.0     0.0     0.0   \n",
       "\n",
       "   pixel9  ...  pixel774  pixel775  pixel776  pixel777  pixel778  pixel779  \\\n",
       "0     0.0  ...       0.0       0.0       0.0       0.0       0.0       0.0   \n",
       "1     0.0  ...       0.0       0.0       0.0       0.0       0.0       0.0   \n",
       "2     0.0  ...       0.0       0.0       0.0       0.0       0.0       0.0   \n",
       "3     0.0  ...       0.0       0.0       0.0       0.0       0.0       0.0   \n",
       "4     0.0  ...       0.0       0.0       0.0       0.0       0.0       0.0   \n",
       "\n",
       "   pixel780  pixel781  pixel782  pixel783  \n",
       "0       0.0       0.0       0.0       0.0  \n",
       "1       0.0       0.0       0.0       0.0  \n",
       "2       0.0       0.0       0.0       0.0  \n",
       "3       0.0       0.0       0.0       0.0  \n",
       "4       0.0       0.0       0.0       0.0  \n",
       "\n",
       "[5 rows x 784 columns]"
      ]
     },
     "execution_count": 7,
     "metadata": {},
     "output_type": "execute_result"
    }
   ],
   "source": [
    "test_data_main.head()"
   ]
  },
  {
   "cell_type": "code",
   "execution_count": 8,
   "metadata": {},
   "outputs": [
    {
     "data": {
      "text/plain": [
       "0    1.0\n",
       "1    0.0\n",
       "2    1.0\n",
       "3    4.0\n",
       "4    0.0\n",
       "Name: label, dtype: float32"
      ]
     },
     "execution_count": 8,
     "metadata": {},
     "output_type": "execute_result"
    }
   ],
   "source": [
    "y_train_full = train_data_main['label']\n",
    "y_train_full.head()"
   ]
  },
  {
   "cell_type": "code",
   "execution_count": 9,
   "metadata": {},
   "outputs": [
    {
     "data": {
      "text/html": [
       "<div>\n",
       "<style scoped>\n",
       "    .dataframe tbody tr th:only-of-type {\n",
       "        vertical-align: middle;\n",
       "    }\n",
       "\n",
       "    .dataframe tbody tr th {\n",
       "        vertical-align: top;\n",
       "    }\n",
       "\n",
       "    .dataframe thead th {\n",
       "        text-align: right;\n",
       "    }\n",
       "</style>\n",
       "<table border=\"1\" class=\"dataframe\">\n",
       "  <thead>\n",
       "    <tr style=\"text-align: right;\">\n",
       "      <th></th>\n",
       "      <th>pixel0</th>\n",
       "      <th>pixel1</th>\n",
       "      <th>pixel2</th>\n",
       "      <th>pixel3</th>\n",
       "      <th>pixel4</th>\n",
       "      <th>pixel5</th>\n",
       "      <th>pixel6</th>\n",
       "      <th>pixel7</th>\n",
       "      <th>pixel8</th>\n",
       "      <th>pixel9</th>\n",
       "      <th>...</th>\n",
       "      <th>pixel774</th>\n",
       "      <th>pixel775</th>\n",
       "      <th>pixel776</th>\n",
       "      <th>pixel777</th>\n",
       "      <th>pixel778</th>\n",
       "      <th>pixel779</th>\n",
       "      <th>pixel780</th>\n",
       "      <th>pixel781</th>\n",
       "      <th>pixel782</th>\n",
       "      <th>pixel783</th>\n",
       "    </tr>\n",
       "  </thead>\n",
       "  <tbody>\n",
       "    <tr>\n",
       "      <th>0</th>\n",
       "      <td>0.0</td>\n",
       "      <td>0.0</td>\n",
       "      <td>0.0</td>\n",
       "      <td>0.0</td>\n",
       "      <td>0.0</td>\n",
       "      <td>0.0</td>\n",
       "      <td>0.0</td>\n",
       "      <td>0.0</td>\n",
       "      <td>0.0</td>\n",
       "      <td>0.0</td>\n",
       "      <td>...</td>\n",
       "      <td>0.0</td>\n",
       "      <td>0.0</td>\n",
       "      <td>0.0</td>\n",
       "      <td>0.0</td>\n",
       "      <td>0.0</td>\n",
       "      <td>0.0</td>\n",
       "      <td>0.0</td>\n",
       "      <td>0.0</td>\n",
       "      <td>0.0</td>\n",
       "      <td>0.0</td>\n",
       "    </tr>\n",
       "    <tr>\n",
       "      <th>1</th>\n",
       "      <td>0.0</td>\n",
       "      <td>0.0</td>\n",
       "      <td>0.0</td>\n",
       "      <td>0.0</td>\n",
       "      <td>0.0</td>\n",
       "      <td>0.0</td>\n",
       "      <td>0.0</td>\n",
       "      <td>0.0</td>\n",
       "      <td>0.0</td>\n",
       "      <td>0.0</td>\n",
       "      <td>...</td>\n",
       "      <td>0.0</td>\n",
       "      <td>0.0</td>\n",
       "      <td>0.0</td>\n",
       "      <td>0.0</td>\n",
       "      <td>0.0</td>\n",
       "      <td>0.0</td>\n",
       "      <td>0.0</td>\n",
       "      <td>0.0</td>\n",
       "      <td>0.0</td>\n",
       "      <td>0.0</td>\n",
       "    </tr>\n",
       "    <tr>\n",
       "      <th>2</th>\n",
       "      <td>0.0</td>\n",
       "      <td>0.0</td>\n",
       "      <td>0.0</td>\n",
       "      <td>0.0</td>\n",
       "      <td>0.0</td>\n",
       "      <td>0.0</td>\n",
       "      <td>0.0</td>\n",
       "      <td>0.0</td>\n",
       "      <td>0.0</td>\n",
       "      <td>0.0</td>\n",
       "      <td>...</td>\n",
       "      <td>0.0</td>\n",
       "      <td>0.0</td>\n",
       "      <td>0.0</td>\n",
       "      <td>0.0</td>\n",
       "      <td>0.0</td>\n",
       "      <td>0.0</td>\n",
       "      <td>0.0</td>\n",
       "      <td>0.0</td>\n",
       "      <td>0.0</td>\n",
       "      <td>0.0</td>\n",
       "    </tr>\n",
       "    <tr>\n",
       "      <th>3</th>\n",
       "      <td>0.0</td>\n",
       "      <td>0.0</td>\n",
       "      <td>0.0</td>\n",
       "      <td>0.0</td>\n",
       "      <td>0.0</td>\n",
       "      <td>0.0</td>\n",
       "      <td>0.0</td>\n",
       "      <td>0.0</td>\n",
       "      <td>0.0</td>\n",
       "      <td>0.0</td>\n",
       "      <td>...</td>\n",
       "      <td>0.0</td>\n",
       "      <td>0.0</td>\n",
       "      <td>0.0</td>\n",
       "      <td>0.0</td>\n",
       "      <td>0.0</td>\n",
       "      <td>0.0</td>\n",
       "      <td>0.0</td>\n",
       "      <td>0.0</td>\n",
       "      <td>0.0</td>\n",
       "      <td>0.0</td>\n",
       "    </tr>\n",
       "    <tr>\n",
       "      <th>4</th>\n",
       "      <td>0.0</td>\n",
       "      <td>0.0</td>\n",
       "      <td>0.0</td>\n",
       "      <td>0.0</td>\n",
       "      <td>0.0</td>\n",
       "      <td>0.0</td>\n",
       "      <td>0.0</td>\n",
       "      <td>0.0</td>\n",
       "      <td>0.0</td>\n",
       "      <td>0.0</td>\n",
       "      <td>...</td>\n",
       "      <td>0.0</td>\n",
       "      <td>0.0</td>\n",
       "      <td>0.0</td>\n",
       "      <td>0.0</td>\n",
       "      <td>0.0</td>\n",
       "      <td>0.0</td>\n",
       "      <td>0.0</td>\n",
       "      <td>0.0</td>\n",
       "      <td>0.0</td>\n",
       "      <td>0.0</td>\n",
       "    </tr>\n",
       "  </tbody>\n",
       "</table>\n",
       "<p>5 rows × 784 columns</p>\n",
       "</div>"
      ],
      "text/plain": [
       "   pixel0  pixel1  pixel2  pixel3  pixel4  pixel5  pixel6  pixel7  pixel8  \\\n",
       "0     0.0     0.0     0.0     0.0     0.0     0.0     0.0     0.0     0.0   \n",
       "1     0.0     0.0     0.0     0.0     0.0     0.0     0.0     0.0     0.0   \n",
       "2     0.0     0.0     0.0     0.0     0.0     0.0     0.0     0.0     0.0   \n",
       "3     0.0     0.0     0.0     0.0     0.0     0.0     0.0     0.0     0.0   \n",
       "4     0.0     0.0     0.0     0.0     0.0     0.0     0.0     0.0     0.0   \n",
       "\n",
       "   pixel9  ...  pixel774  pixel775  pixel776  pixel777  pixel778  pixel779  \\\n",
       "0     0.0  ...       0.0       0.0       0.0       0.0       0.0       0.0   \n",
       "1     0.0  ...       0.0       0.0       0.0       0.0       0.0       0.0   \n",
       "2     0.0  ...       0.0       0.0       0.0       0.0       0.0       0.0   \n",
       "3     0.0  ...       0.0       0.0       0.0       0.0       0.0       0.0   \n",
       "4     0.0  ...       0.0       0.0       0.0       0.0       0.0       0.0   \n",
       "\n",
       "   pixel780  pixel781  pixel782  pixel783  \n",
       "0       0.0       0.0       0.0       0.0  \n",
       "1       0.0       0.0       0.0       0.0  \n",
       "2       0.0       0.0       0.0       0.0  \n",
       "3       0.0       0.0       0.0       0.0  \n",
       "4       0.0       0.0       0.0       0.0  \n",
       "\n",
       "[5 rows x 784 columns]"
      ]
     },
     "execution_count": 9,
     "metadata": {},
     "output_type": "execute_result"
    }
   ],
   "source": [
    "X_train_full = train_data_main.drop(['label'],axis =1)\n",
    "X_train_full.head()"
   ]
  },
  {
   "cell_type": "code",
   "execution_count": 10,
   "metadata": {},
   "outputs": [],
   "source": [
    "#Normalization\n",
    "X_train_full =  X_train_full/255\n",
    "X_test_full = test_data_main/255"
   ]
  },
  {
   "cell_type": "code",
   "execution_count": 11,
   "metadata": {},
   "outputs": [],
   "source": [
    "#Reshape\n",
    "X_train_full = X_train_full.values.reshape(-1, 28, 28, 1)\n",
    "X_test_full = X_test_full.values.reshape(-1,28,28,1)"
   ]
  },
  {
   "cell_type": "code",
   "execution_count": 12,
   "metadata": {},
   "outputs": [
    {
     "name": "stdout",
     "output_type": "stream",
     "text": [
      "\t Digit :  4.0\n"
     ]
    },
    {
     "data": {
      "image/png": "[encoded data removed]",
      "text/plain": [
       "<Figure size 432x288 with 1 Axes>"
      ]
     },
     "metadata": {
      "needs_background": "light"
     },
     "output_type": "display_data"
    }
   ],
   "source": [
    "i = 3 #item number\n",
    "plt.imshow(X_train_full[i])\n",
    "print(\"\\t Digit : \",y_train_full[i])"
   ]
  },
  {
   "cell_type": "code",
   "execution_count": 13,
   "metadata": {},
   "outputs": [],
   "source": [
    "X_valid , X_train  = X_train_full[:5000],X_train_full[5000:]\n",
    "y_valid , y_train  = y_train_full[:5000],y_train_full[5000:]\n",
    "X_test = X_test_full"
   ]
  },
  {
   "cell_type": "code",
   "execution_count": 14,
   "metadata": {},
   "outputs": [],
   "source": [
    "np.random.seed(42)\n",
    "tf.random.set_seed(42)"
   ]
  },
  {
   "cell_type": "code",
   "execution_count": 15,
   "metadata": {},
   "outputs": [],
   "source": [
    "model = keras.models.Sequential()"
   ]
  },
  {
   "cell_type": "code",
   "execution_count": 16,
   "metadata": {},
   "outputs": [],
   "source": [
    "model.add(keras.layers.Flatten(input_shape=[28,28]))\n",
    "model.add(keras.layers.Dense(300, activation='relu'))\n",
    "model.add(keras.layers.Dense(100, activation='relu'))\n",
    "model.add(keras.layers.Dense(10, activation='softmax'))"
   ]
  },
  {
   "cell_type": "code",
   "execution_count": 17,
   "metadata": {},
   "outputs": [
    {
     "name": "stdout",
     "output_type": "stream",
     "text": [
      "Model: \"sequential\"\n",
      "_________________________________________________________________\n",
      "Layer (type)                 Output Shape              Param #   \n",
      "=================================================================\n",
      "flatten (Flatten)            (None, 784)               0         \n",
      "_________________________________________________________________\n",
      "dense (Dense)                (None, 300)               235500    \n",
      "_________________________________________________________________\n",
      "dense_1 (Dense)              (None, 100)               30100     \n",
      "_________________________________________________________________\n",
      "dense_2 (Dense)              (None, 10)                1010      \n",
      "=================================================================\n",
      "Total params: 266,610\n",
      "Trainable params: 266,610\n",
      "Non-trainable params: 0\n",
      "_________________________________________________________________\n"
     ]
    }
   ],
   "source": [
    "model.summary()"
   ]
  },
  {
   "cell_type": "code",
   "execution_count": 18,
   "metadata": {},
   "outputs": [
    {
     "name": "stdout",
     "output_type": "stream",
     "text": [
      "[[ 0.02448617 -0.00877795 -0.02189048 ... -0.02766046  0.03859074\n",
      "  -0.06889391]\n",
      " [ 0.00476504 -0.03105379 -0.0586676  ...  0.00602964 -0.02763776\n",
      "  -0.04165364]\n",
      " [-0.06189284 -0.06901957  0.07102345 ... -0.04238207  0.07121518\n",
      "  -0.07331658]\n",
      " ...\n",
      " [-0.03048757  0.02155137 -0.05400612 ... -0.00113463  0.00228987\n",
      "   0.05581069]\n",
      " [ 0.07061854 -0.06960931  0.07038955 ... -0.00384101  0.00034875\n",
      "   0.02878492]\n",
      " [-0.06022581  0.01577859 -0.02585464 ... -0.00527829  0.00272203\n",
      "  -0.06793761]]\n",
      "[0. 0. 0. 0. 0. 0. 0. 0. 0. 0. 0. 0. 0. 0. 0. 0. 0. 0. 0. 0. 0. 0. 0. 0.\n",
      " 0. 0. 0. 0. 0. 0. 0. 0. 0. 0. 0. 0. 0. 0. 0. 0. 0. 0. 0. 0. 0. 0. 0. 0.\n",
      " 0. 0. 0. 0. 0. 0. 0. 0. 0. 0. 0. 0. 0. 0. 0. 0. 0. 0. 0. 0. 0. 0. 0. 0.\n",
      " 0. 0. 0. 0. 0. 0. 0. 0. 0. 0. 0. 0. 0. 0. 0. 0. 0. 0. 0. 0. 0. 0. 0. 0.\n",
      " 0. 0. 0. 0. 0. 0. 0. 0. 0. 0. 0. 0. 0. 0. 0. 0. 0. 0. 0. 0. 0. 0. 0. 0.\n",
      " 0. 0. 0. 0. 0. 0. 0. 0. 0. 0. 0. 0. 0. 0. 0. 0. 0. 0. 0. 0. 0. 0. 0. 0.\n",
      " 0. 0. 0. 0. 0. 0. 0. 0. 0. 0. 0. 0. 0. 0. 0. 0. 0. 0. 0. 0. 0. 0. 0. 0.\n",
      " 0. 0. 0. 0. 0. 0. 0. 0. 0. 0. 0. 0. 0. 0. 0. 0. 0. 0. 0. 0. 0. 0. 0. 0.\n",
      " 0. 0. 0. 0. 0. 0. 0. 0. 0. 0. 0. 0. 0. 0. 0. 0. 0. 0. 0. 0. 0. 0. 0. 0.\n",
      " 0. 0. 0. 0. 0. 0. 0. 0. 0. 0. 0. 0. 0. 0. 0. 0. 0. 0. 0. 0. 0. 0. 0. 0.\n",
      " 0. 0. 0. 0. 0. 0. 0. 0. 0. 0. 0. 0. 0. 0. 0. 0. 0. 0. 0. 0. 0. 0. 0. 0.\n",
      " 0. 0. 0. 0. 0. 0. 0. 0. 0. 0. 0. 0. 0. 0. 0. 0. 0. 0. 0. 0. 0. 0. 0. 0.\n",
      " 0. 0. 0. 0. 0. 0. 0. 0. 0. 0. 0. 0.]\n"
     ]
    }
   ],
   "source": [
    "w , b = model.layers[1].get_weights()\n",
    "print(w)\n",
    "print(b)"
   ]
  },
  {
   "cell_type": "code",
   "execution_count": 19,
   "metadata": {},
   "outputs": [],
   "source": [
    "model.compile(loss=\"sparse_categorical_crossentropy\",  #for labled output\n",
    "              optimizer = \"sgd\", #stochastic gradient desent\n",
    "              metrics=[\"accuracy\"])"
   ]
  },
  {
   "cell_type": "code",
   "execution_count": 20,
   "metadata": {},
   "outputs": [
    {
     "name": "stdout",
     "output_type": "stream",
     "text": [
      "Epoch 1/100\n",
      "1157/1157 [==============================] - 3s 2ms/step - loss: 1.2192 - accuracy: 0.6725 - val_loss: 0.3770 - val_accuracy: 0.8942\n",
      "Epoch 2/100\n",
      "1157/1157 [==============================] - 2s 2ms/step - loss: 0.3447 - accuracy: 0.9023 - val_loss: 0.2907 - val_accuracy: 0.9190\n",
      "Epoch 3/100\n",
      "1157/1157 [==============================] - 2s 2ms/step - loss: 0.2801 - accuracy: 0.9203 - val_loss: 0.2553 - val_accuracy: 0.9296\n",
      "Epoch 4/100\n",
      "1157/1157 [==============================] - 2s 2ms/step - loss: 0.2451 - accuracy: 0.9276 - val_loss: 0.2382 - val_accuracy: 0.9346\n",
      "Epoch 5/100\n",
      "1157/1157 [==============================] - 2s 2ms/step - loss: 0.2169 - accuracy: 0.9365 - val_loss: 0.2058 - val_accuracy: 0.9424\n",
      "Epoch 6/100\n",
      "1157/1157 [==============================] - 2s 2ms/step - loss: 0.1887 - accuracy: 0.9462 - val_loss: 0.1897 - val_accuracy: 0.9462\n",
      "Epoch 7/100\n",
      "1157/1157 [==============================] - 2s 2ms/step - loss: 0.1738 - accuracy: 0.9494 - val_loss: 0.1770 - val_accuracy: 0.9498\n",
      "Epoch 8/100\n",
      "1157/1157 [==============================] - 3s 3ms/step - loss: 0.1650 - accuracy: 0.9538 - val_loss: 0.1645 - val_accuracy: 0.9540\n",
      "Epoch 9/100\n",
      "1157/1157 [==============================] - 2s 2ms/step - loss: 0.1456 - accuracy: 0.9585 - val_loss: 0.1619 - val_accuracy: 0.9502\n",
      "Epoch 10/100\n",
      "1157/1157 [==============================] - 2s 2ms/step - loss: 0.1347 - accuracy: 0.9626 - val_loss: 0.1438 - val_accuracy: 0.9588\n",
      "Epoch 11/100\n",
      "1157/1157 [==============================] - 2s 2ms/step - loss: 0.1264 - accuracy: 0.9638 - val_loss: 0.1375 - val_accuracy: 0.9592\n",
      "Epoch 12/100\n",
      "1157/1157 [==============================] - 4s 3ms/step - loss: 0.1122 - accuracy: 0.9693 - val_loss: 0.1311 - val_accuracy: 0.9636\n",
      "Epoch 13/100\n",
      "1157/1157 [==============================] - 4s 3ms/step - loss: 0.1066 - accuracy: 0.9699 - val_loss: 0.1281 - val_accuracy: 0.9636\n",
      "Epoch 14/100\n",
      "1157/1157 [==============================] - 4s 4ms/step - loss: 0.0945 - accuracy: 0.9738 - val_loss: 0.1231 - val_accuracy: 0.9630\n",
      "Epoch 15/100\n",
      "1157/1157 [==============================] - 3s 2ms/step - loss: 0.0916 - accuracy: 0.9747 - val_loss: 0.1164 - val_accuracy: 0.9638\n",
      "Epoch 16/100\n",
      "1157/1157 [==============================] - 3s 2ms/step - loss: 0.0881 - accuracy: 0.9749 - val_loss: 0.1167 - val_accuracy: 0.9656\n",
      "Epoch 17/100\n",
      "1157/1157 [==============================] - 3s 3ms/step - loss: 0.0801 - accuracy: 0.9772 - val_loss: 0.1107 - val_accuracy: 0.9702\n",
      "Epoch 18/100\n",
      "1157/1157 [==============================] - 3s 3ms/step - loss: 0.0738 - accuracy: 0.9794 - val_loss: 0.1097 - val_accuracy: 0.9688\n",
      "Epoch 19/100\n",
      "1157/1157 [==============================] - 4s 3ms/step - loss: 0.0729 - accuracy: 0.9797 - val_loss: 0.1034 - val_accuracy: 0.9704\n",
      "Epoch 20/100\n",
      "1157/1157 [==============================] - 3s 3ms/step - loss: 0.0688 - accuracy: 0.9819 - val_loss: 0.1047 - val_accuracy: 0.9698\n",
      "Epoch 21/100\n",
      "1157/1157 [==============================] - 3s 2ms/step - loss: 0.0670 - accuracy: 0.9816 - val_loss: 0.1068 - val_accuracy: 0.9694\n",
      "Epoch 22/100\n",
      "1157/1157 [==============================] - 3s 3ms/step - loss: 0.0608 - accuracy: 0.9846 - val_loss: 0.0985 - val_accuracy: 0.9720\n",
      "Epoch 23/100\n",
      "1157/1157 [==============================] - 3s 3ms/step - loss: 0.0548 - accuracy: 0.9857 - val_loss: 0.0982 - val_accuracy: 0.9704\n",
      "Epoch 24/100\n",
      "1157/1157 [==============================] - 3s 3ms/step - loss: 0.0534 - accuracy: 0.9867 - val_loss: 0.1013 - val_accuracy: 0.9708\n",
      "Epoch 25/100\n",
      "1157/1157 [==============================] - 3s 3ms/step - loss: 0.0488 - accuracy: 0.9872 - val_loss: 0.0952 - val_accuracy: 0.9712\n",
      "Epoch 26/100\n",
      "1157/1157 [==============================] - 3s 3ms/step - loss: 0.0495 - accuracy: 0.9867 - val_loss: 0.0952 - val_accuracy: 0.9706\n",
      "Epoch 27/100\n",
      "1157/1157 [==============================] - 3s 3ms/step - loss: 0.0445 - accuracy: 0.9890 - val_loss: 0.0931 - val_accuracy: 0.9722\n",
      "Epoch 28/100\n",
      "1157/1157 [==============================] - 4s 3ms/step - loss: 0.0447 - accuracy: 0.9888 - val_loss: 0.0914 - val_accuracy: 0.9738\n",
      "Epoch 29/100\n",
      "1157/1157 [==============================] - 3s 3ms/step - loss: 0.0408 - accuracy: 0.9896 - val_loss: 0.0904 - val_accuracy: 0.9728\n",
      "Epoch 30/100\n",
      "1157/1157 [==============================] - 4s 3ms/step - loss: 0.0396 - accuracy: 0.9909 - val_loss: 0.0913 - val_accuracy: 0.9736\n",
      "Epoch 31/100\n",
      "1157/1157 [==============================] - 3s 3ms/step - loss: 0.0370 - accuracy: 0.9917 - val_loss: 0.0889 - val_accuracy: 0.9740\n",
      "Epoch 32/100\n",
      "1157/1157 [==============================] - 4s 4ms/step - loss: 0.0350 - accuracy: 0.9929 - val_loss: 0.0869 - val_accuracy: 0.9738\n",
      "Epoch 33/100\n",
      "1157/1157 [==============================] - 5s 4ms/step - loss: 0.0321 - accuracy: 0.9934 - val_loss: 0.0861 - val_accuracy: 0.9740\n",
      "Epoch 34/100\n",
      "1157/1157 [==============================] - 4s 3ms/step - loss: 0.0307 - accuracy: 0.9939 - val_loss: 0.0868 - val_accuracy: 0.9744\n",
      "Epoch 35/100\n",
      "1157/1157 [==============================] - 6s 6ms/step - loss: 0.0302 - accuracy: 0.9938 - val_loss: 0.0860 - val_accuracy: 0.9750\n",
      "Epoch 36/100\n",
      "1157/1157 [==============================] - 4s 4ms/step - loss: 0.0268 - accuracy: 0.9955 - val_loss: 0.0847 - val_accuracy: 0.9758\n",
      "Epoch 37/100\n",
      "1157/1157 [==============================] - 5s 5ms/step - loss: 0.0248 - accuracy: 0.9954 - val_loss: 0.0858 - val_accuracy: 0.9750\n",
      "Epoch 38/100\n",
      "1157/1157 [==============================] - 5s 4ms/step - loss: 0.0253 - accuracy: 0.9959 - val_loss: 0.0825 - val_accuracy: 0.9776\n",
      "Epoch 39/100\n",
      "1157/1157 [==============================] - 4s 4ms/step - loss: 0.0250 - accuracy: 0.9957 - val_loss: 0.0836 - val_accuracy: 0.9758\n",
      "Epoch 40/100\n",
      "1157/1157 [==============================] - 5s 4ms/step - loss: 0.0233 - accuracy: 0.9959 - val_loss: 0.0856 - val_accuracy: 0.9750\n",
      "Epoch 41/100\n",
      "1157/1157 [==============================] - 4s 3ms/step - loss: 0.0224 - accuracy: 0.9964 - val_loss: 0.0833 - val_accuracy: 0.9764\n",
      "Epoch 42/100\n",
      "1157/1157 [==============================] - 4s 3ms/step - loss: 0.0206 - accuracy: 0.9966 - val_loss: 0.0838 - val_accuracy: 0.9776\n",
      "Epoch 43/100\n",
      "1157/1157 [==============================] - 4s 3ms/step - loss: 0.0189 - accuracy: 0.9971 - val_loss: 0.0910 - val_accuracy: 0.9734\n",
      "Epoch 44/100\n",
      "1157/1157 [==============================] - 4s 3ms/step - loss: 0.0184 - accuracy: 0.9972 - val_loss: 0.0821 - val_accuracy: 0.9768\n",
      "Epoch 45/100\n",
      "1157/1157 [==============================] - 3s 3ms/step - loss: 0.0174 - accuracy: 0.9978 - val_loss: 0.0838 - val_accuracy: 0.9758\n",
      "Epoch 46/100\n",
      "1157/1157 [==============================] - 3s 3ms/step - loss: 0.0168 - accuracy: 0.9980 - val_loss: 0.0827 - val_accuracy: 0.9768\n",
      "Epoch 47/100\n",
      "1157/1157 [==============================] - 3s 2ms/step - loss: 0.0154 - accuracy: 0.9983 - val_loss: 0.0821 - val_accuracy: 0.9778\n",
      "Epoch 48/100\n",
      "1157/1157 [==============================] - 3s 3ms/step - loss: 0.0167 - accuracy: 0.9981 - val_loss: 0.0813 - val_accuracy: 0.9776\n",
      "Epoch 49/100\n",
      "1157/1157 [==============================] - 3s 3ms/step - loss: 0.0148 - accuracy: 0.9983 - val_loss: 0.0813 - val_accuracy: 0.9782\n",
      "Epoch 50/100\n",
      "1157/1157 [==============================] - 3s 2ms/step - loss: 0.0139 - accuracy: 0.9989 - val_loss: 0.0798 - val_accuracy: 0.9782\n",
      "Epoch 51/100\n",
      "1157/1157 [==============================] - 3s 2ms/step - loss: 0.0137 - accuracy: 0.9989 - val_loss: 0.0811 - val_accuracy: 0.9768\n",
      "Epoch 52/100\n",
      "1157/1157 [==============================] - 3s 2ms/step - loss: 0.0136 - accuracy: 0.9988 - val_loss: 0.0808 - val_accuracy: 0.9782\n",
      "Epoch 53/100\n",
      "1157/1157 [==============================] - 3s 3ms/step - loss: 0.0117 - accuracy: 0.9993 - val_loss: 0.0806 - val_accuracy: 0.9780\n",
      "Epoch 54/100\n",
      "1157/1157 [==============================] - 3s 2ms/step - loss: 0.0107 - accuracy: 0.9993 - val_loss: 0.0808 - val_accuracy: 0.9772\n",
      "Epoch 55/100\n",
      "1157/1157 [==============================] - 3s 2ms/step - loss: 0.0117 - accuracy: 0.9991 - val_loss: 0.0793 - val_accuracy: 0.9778\n",
      "Epoch 56/100\n",
      "1157/1157 [==============================] - 3s 2ms/step - loss: 0.0105 - accuracy: 0.9992 - val_loss: 0.0800 - val_accuracy: 0.9778\n",
      "Epoch 57/100\n"
     ]
    },
    {
     "name": "stdout",
     "output_type": "stream",
     "text": [
      "1157/1157 [==============================] - 3s 2ms/step - loss: 0.0104 - accuracy: 0.9991 - val_loss: 0.0800 - val_accuracy: 0.9782\n",
      "Epoch 58/100\n",
      "1157/1157 [==============================] - 3s 2ms/step - loss: 0.0101 - accuracy: 0.9994 - val_loss: 0.0810 - val_accuracy: 0.9780\n",
      "Epoch 59/100\n",
      "1157/1157 [==============================] - 3s 2ms/step - loss: 0.0103 - accuracy: 0.9993 - val_loss: 0.0805 - val_accuracy: 0.9784\n",
      "Epoch 60/100\n",
      "1157/1157 [==============================] - 3s 2ms/step - loss: 0.0093 - accuracy: 0.9992 - val_loss: 0.0796 - val_accuracy: 0.9786\n",
      "Epoch 61/100\n",
      "1157/1157 [==============================] - 3s 2ms/step - loss: 0.0091 - accuracy: 0.9995 - val_loss: 0.0808 - val_accuracy: 0.9778\n",
      "Epoch 62/100\n",
      "1157/1157 [==============================] - 3s 2ms/step - loss: 0.0085 - accuracy: 0.9997 - val_loss: 0.0805 - val_accuracy: 0.9782\n",
      "Epoch 63/100\n",
      "1157/1157 [==============================] - 3s 2ms/step - loss: 0.0078 - accuracy: 0.9998 - val_loss: 0.0817 - val_accuracy: 0.9778\n",
      "Epoch 64/100\n",
      "1157/1157 [==============================] - 3s 2ms/step - loss: 0.0084 - accuracy: 0.9996 - val_loss: 0.0842 - val_accuracy: 0.9768\n",
      "Epoch 65/100\n",
      "1157/1157 [==============================] - 3s 3ms/step - loss: 0.0072 - accuracy: 0.9997 - val_loss: 0.0795 - val_accuracy: 0.9784\n",
      "Epoch 66/100\n",
      "1157/1157 [==============================] - 4s 3ms/step - loss: 0.0077 - accuracy: 0.9997 - val_loss: 0.0819 - val_accuracy: 0.9784\n",
      "Epoch 67/100\n",
      "1157/1157 [==============================] - 4s 3ms/step - loss: 0.0073 - accuracy: 0.9997 - val_loss: 0.0793 - val_accuracy: 0.9792\n",
      "Epoch 68/100\n",
      "1157/1157 [==============================] - 4s 3ms/step - loss: 0.0063 - accuracy: 0.9998 - val_loss: 0.0800 - val_accuracy: 0.9776\n",
      "Epoch 69/100\n",
      "1157/1157 [==============================] - 5s 4ms/step - loss: 0.0068 - accuracy: 0.9998 - val_loss: 0.0802 - val_accuracy: 0.9786\n",
      "Epoch 70/100\n",
      "1157/1157 [==============================] - 5s 4ms/step - loss: 0.0064 - accuracy: 0.9998 - val_loss: 0.0811 - val_accuracy: 0.9786\n",
      "Epoch 71/100\n",
      "1157/1157 [==============================] - 7s 6ms/step - loss: 0.0059 - accuracy: 0.9999 - val_loss: 0.0813 - val_accuracy: 0.9792\n",
      "Epoch 72/100\n",
      "1157/1157 [==============================] - 4s 4ms/step - loss: 0.0058 - accuracy: 0.9999 - val_loss: 0.0796 - val_accuracy: 0.9786\n",
      "Epoch 73/100\n",
      "1157/1157 [==============================] - 4s 3ms/step - loss: 0.0056 - accuracy: 0.9999 - val_loss: 0.0810 - val_accuracy: 0.9784\n",
      "Epoch 74/100\n",
      "1157/1157 [==============================] - 4s 4ms/step - loss: 0.0055 - accuracy: 0.9999 - val_loss: 0.0813 - val_accuracy: 0.9784\n",
      "Epoch 75/100\n",
      "1157/1157 [==============================] - 4s 4ms/step - loss: 0.0054 - accuracy: 1.0000 - val_loss: 0.0806 - val_accuracy: 0.9790\n",
      "Epoch 76/100\n",
      "1157/1157 [==============================] - 5s 4ms/step - loss: 0.0054 - accuracy: 0.9999 - val_loss: 0.0803 - val_accuracy: 0.9786\n",
      "Epoch 77/100\n",
      "1157/1157 [==============================] - 3s 3ms/step - loss: 0.0052 - accuracy: 1.0000 - val_loss: 0.0814 - val_accuracy: 0.9794\n",
      "Epoch 78/100\n",
      "1157/1157 [==============================] - 4s 3ms/step - loss: 0.0050 - accuracy: 1.0000 - val_loss: 0.0814 - val_accuracy: 0.9788\n",
      "Epoch 79/100\n",
      "1157/1157 [==============================] - 4s 3ms/step - loss: 0.0050 - accuracy: 0.9999 - val_loss: 0.0807 - val_accuracy: 0.9786\n",
      "Epoch 80/100\n",
      "1157/1157 [==============================] - 4s 3ms/step - loss: 0.0047 - accuracy: 0.9999 - val_loss: 0.0812 - val_accuracy: 0.9780\n",
      "Epoch 81/100\n",
      "1157/1157 [==============================] - 4s 3ms/step - loss: 0.0043 - accuracy: 0.9999 - val_loss: 0.0812 - val_accuracy: 0.9790\n",
      "Epoch 82/100\n",
      "1157/1157 [==============================] - 4s 4ms/step - loss: 0.0045 - accuracy: 1.0000 - val_loss: 0.0822 - val_accuracy: 0.9788\n",
      "Epoch 83/100\n",
      "1157/1157 [==============================] - 5s 4ms/step - loss: 0.0044 - accuracy: 0.9999 - val_loss: 0.0818 - val_accuracy: 0.9788\n",
      "Epoch 84/100\n",
      "1157/1157 [==============================] - 4s 3ms/step - loss: 0.0042 - accuracy: 0.9999 - val_loss: 0.0818 - val_accuracy: 0.9790\n",
      "Epoch 85/100\n",
      "1157/1157 [==============================] - 3s 3ms/step - loss: 0.0040 - accuracy: 1.0000 - val_loss: 0.0822 - val_accuracy: 0.9786\n",
      "Epoch 86/100\n",
      "1157/1157 [==============================] - 3s 3ms/step - loss: 0.0041 - accuracy: 1.0000 - val_loss: 0.0821 - val_accuracy: 0.9792\n",
      "Epoch 87/100\n",
      "1157/1157 [==============================] - 3s 2ms/step - loss: 0.0038 - accuracy: 1.0000 - val_loss: 0.0817 - val_accuracy: 0.9790\n",
      "Epoch 88/100\n",
      "1157/1157 [==============================] - 2s 2ms/step - loss: 0.0036 - accuracy: 1.0000 - val_loss: 0.0819 - val_accuracy: 0.9790\n",
      "Epoch 89/100\n",
      "1157/1157 [==============================] - 4s 3ms/step - loss: 0.0037 - accuracy: 1.0000 - val_loss: 0.0823 - val_accuracy: 0.9792\n",
      "Epoch 90/100\n",
      "1157/1157 [==============================] - 4s 3ms/step - loss: 0.0036 - accuracy: 1.0000 - val_loss: 0.0823 - val_accuracy: 0.9790\n",
      "Epoch 91/100\n",
      "1157/1157 [==============================] - 3s 3ms/step - loss: 0.0035 - accuracy: 1.0000 - val_loss: 0.0826 - val_accuracy: 0.9784\n",
      "Epoch 92/100\n",
      "1157/1157 [==============================] - 3s 2ms/step - loss: 0.0035 - accuracy: 1.0000 - val_loss: 0.0823 - val_accuracy: 0.9788\n",
      "Epoch 93/100\n",
      "1157/1157 [==============================] - 3s 2ms/step - loss: 0.0034 - accuracy: 1.0000 - val_loss: 0.0829 - val_accuracy: 0.9794\n",
      "Epoch 94/100\n",
      "1157/1157 [==============================] - 4s 3ms/step - loss: 0.0033 - accuracy: 1.0000 - val_loss: 0.0832 - val_accuracy: 0.9792\n",
      "Epoch 95/100\n",
      "1157/1157 [==============================] - 3s 3ms/step - loss: 0.0032 - accuracy: 1.0000 - val_loss: 0.0836 - val_accuracy: 0.9788\n",
      "Epoch 96/100\n",
      "1157/1157 [==============================] - 3s 3ms/step - loss: 0.0031 - accuracy: 1.0000 - val_loss: 0.0830 - val_accuracy: 0.9786\n",
      "Epoch 97/100\n",
      "1157/1157 [==============================] - 3s 3ms/step - loss: 0.0029 - accuracy: 1.0000 - val_loss: 0.0831 - val_accuracy: 0.9786\n",
      "Epoch 98/100\n",
      "1157/1157 [==============================] - 3s 3ms/step - loss: 0.0030 - accuracy: 1.0000 - val_loss: 0.0833 - val_accuracy: 0.9796\n",
      "Epoch 99/100\n",
      "1157/1157 [==============================] - 3s 3ms/step - loss: 0.0030 - accuracy: 1.0000 - val_loss: 0.0829 - val_accuracy: 0.9786\n",
      "Epoch 100/100\n",
      "1157/1157 [==============================] - 3s 2ms/step - loss: 0.0029 - accuracy: 1.0000 - val_loss: 0.0843 - val_accuracy: 0.9794\n"
     ]
    }
   ],
   "source": [
    "model_hist = model.fit(X_train,y_train,epochs=100,validation_data=(X_valid,y_valid))"
   ]
  },
  {
   "cell_type": "code",
   "execution_count": 22,
   "metadata": {},
   "outputs": [
    {
     "data": {
      "text/plain": [
       "{'verbose': 1, 'epochs': 100, 'steps': 1157}"
      ]
     },
     "execution_count": 22,
     "metadata": {},
     "output_type": "execute_result"
    }
   ],
   "source": [
    "model_hist.params"
   ]
  },
  {
   "cell_type": "code",
   "execution_count": 40,
   "metadata": {},
   "outputs": [],
   "source": [
    "model.save('Digit_Recog.h5')"
   ]
  },
  {
   "cell_type": "code",
   "execution_count": 23,
   "metadata": {},
   "outputs": [
    {
     "data": {
      "image/png": "[encoded data removed]",
      "text/plain": [
       "<Figure size 1440x504 with 1 Axes>"
      ]
     },
     "metadata": {
      "needs_background": "light"
     },
     "output_type": "display_data"
    }
   ],
   "source": [
    "pd.DataFrame(model_hist.history).plot(figsize =(20,7))\n",
    "plt.grid(True)\n",
    "plt.gca().set_ylim(0,1)\n",
    "plt.show()"
   ]
  },
  {
   "cell_type": "code",
   "execution_count": 24,
   "metadata": {},
   "outputs": [],
   "source": [
    "y_prob = model.predict(X_test)"
   ]
  },
  {
   "cell_type": "code",
   "execution_count": 25,
   "metadata": {},
   "outputs": [
    {
     "data": {
      "text/plain": [
       "array([[0., 0., 1., ..., 0., 0., 0.],\n",
       "       [1., 0., 0., ..., 0., 0., 0.],\n",
       "       [0., 0., 0., ..., 0., 0., 1.],\n",
       "       ...,\n",
       "       [0., 0., 0., ..., 0., 0., 0.],\n",
       "       [0., 0., 0., ..., 0., 0., 1.],\n",
       "       [0., 0., 1., ..., 0., 0., 0.]], dtype=float32)"
      ]
     },
     "execution_count": 25,
     "metadata": {},
     "output_type": "execute_result"
    }
   ],
   "source": [
    "y_prob.round(2)"
   ]
  },
  {
   "cell_type": "code",
   "execution_count": 27,
   "metadata": {},
   "outputs": [
    {
     "name": "stdout",
     "output_type": "stream",
     "text": [
      "[9.9999952e-01 2.8284038e-11 4.6401289e-07 4.4146609e-12 7.9336189e-15\n",
      " 3.9235768e-08 2.0957255e-08 3.9764383e-10 1.0890537e-12 6.7332112e-12]\n"
     ]
    },
    {
     "data": {
      "image/png": "[encoded data removed]",
      "text/plain": [
       "<Figure size 432x288 with 1 Axes>"
      ]
     },
     "metadata": {
      "needs_background": "light"
     },
     "output_type": "display_data"
    }
   ],
   "source": [
    "i = 1 #item number\n",
    "plt.imshow(X_test_full[i])\n",
    "print(y_prob[i])\n"
   ]
  },
  {
   "cell_type": "code",
   "execution_count": 28,
   "metadata": {},
   "outputs": [
    {
     "name": "stderr",
     "output_type": "stream",
     "text": [
      "C:\\Users\\Siddhant\\anaconda3\\lib\\site-packages\\tensorflow\\python\\keras\\engine\\sequential.py:450: UserWarning: `model.predict_classes()` is deprecated and will be removed after 2021-01-01. Please use instead:* `np.argmax(model.predict(x), axis=-1)`,   if your model does multi-class classification   (e.g. if it uses a `softmax` last-layer activation).* `(model.predict(x) > 0.5).astype(\"int32\")`,   if your model does binary classification   (e.g. if it uses a `sigmoid` last-layer activation).\n",
      "  warnings.warn('`model.predict_classes()` is deprecated and '\n"
     ]
    },
    {
     "data": {
      "text/plain": [
       "array([2, 0, 9, ..., 3, 9, 2], dtype=int64)"
      ]
     },
     "execution_count": 28,
     "metadata": {},
     "output_type": "execute_result"
    }
   ],
   "source": [
    "y_pred = model.predict_classes(X_test)\n",
    "y_pred"
   ]
  },
  {
   "cell_type": "code",
   "execution_count": 30,
   "metadata": {},
   "outputs": [
    {
     "name": "stdout",
     "output_type": "stream",
     "text": [
      "\t Prob :  [2.75244438e-10 1.35484988e-05 8.14449436e-07 8.54798418e-05\n",
      " 8.58189829e-04 2.99949011e-06 1.34749785e-08 2.24145660e-05\n",
      " 1.53171073e-04 9.98863339e-01]\n",
      "\n",
      "\t Digit :  9\n"
     ]
    },
    {
     "data": {
      "image/png": "[encoded data removed]",
      "text/plain": [
       "<Figure size 432x288 with 1 Axes>"
      ]
     },
     "metadata": {
      "needs_background": "light"
     },
     "output_type": "display_data"
    }
   ],
   "source": [
    "i = 2 #item number\n",
    "plt.imshow(X_test_full[i])\n",
    "print(\"\\t Prob : \",y_prob[i])\n",
    "print(\"\\n\\t Digit : \",y_pred[i])"
   ]
  },
  {
   "cell_type": "code",
   "execution_count": 31,
   "metadata": {},
   "outputs": [
    {
     "name": "stdout",
     "output_type": "stream",
     "text": [
      "28000\n",
      "28000\n",
      "<class 'numpy.ndarray'>\n"
     ]
    }
   ],
   "source": [
    "print(len(X_test_full))\n",
    "print(len(y_pred))\n",
    "print(type(y_pred))"
   ]
  },
  {
   "cell_type": "code",
   "execution_count": 32,
   "metadata": {},
   "outputs": [
    {
     "data": {
      "text/plain": [
       "[2, 0, 9, 9, 3, 7, 0, 3, 0, 3]"
      ]
     },
     "execution_count": 32,
     "metadata": {},
     "output_type": "execute_result"
    }
   ],
   "source": [
    "label = list(y_pred)\n",
    "label[:10]"
   ]
  },
  {
   "cell_type": "code",
   "execution_count": 33,
   "metadata": {},
   "outputs": [],
   "source": [
    "ImageId = [x for x in range(1,len(X_test_full)+1)]"
   ]
  },
  {
   "cell_type": "code",
   "execution_count": 34,
   "metadata": {},
   "outputs": [
    {
     "name": "stdout",
     "output_type": "stream",
     "text": [
      "28000\n",
      "28000\n",
      "1\n"
     ]
    }
   ],
   "source": [
    "print(len(ImageId))\n",
    "print(len(label))\n",
    "print(ImageId[0])"
   ]
  },
  {
   "cell_type": "code",
   "execution_count": 35,
   "metadata": {},
   "outputs": [],
   "source": [
    "data = {\"ImageId\": ImageId, \"Label\":label}"
   ]
  },
  {
   "cell_type": "code",
   "execution_count": 36,
   "metadata": {},
   "outputs": [],
   "source": [
    "df = pd.DataFrame (data, columns = ['ImageId','Label'])"
   ]
  },
  {
   "cell_type": "code",
   "execution_count": 37,
   "metadata": {},
   "outputs": [
    {
     "data": {
      "text/html": [
       "<div>\n",
       "<style scoped>\n",
       "    .dataframe tbody tr th:only-of-type {\n",
       "        vertical-align: middle;\n",
       "    }\n",
       "\n",
       "    .dataframe tbody tr th {\n",
       "        vertical-align: top;\n",
       "    }\n",
       "\n",
       "    .dataframe thead th {\n",
       "        text-align: right;\n",
       "    }\n",
       "</style>\n",
       "<table border=\"1\" class=\"dataframe\">\n",
       "  <thead>\n",
       "    <tr style=\"text-align: right;\">\n",
       "      <th></th>\n",
       "      <th>ImageId</th>\n",
       "      <th>Label</th>\n",
       "    </tr>\n",
       "  </thead>\n",
       "  <tbody>\n",
       "    <tr>\n",
       "      <th>0</th>\n",
       "      <td>1</td>\n",
       "      <td>2</td>\n",
       "    </tr>\n",
       "    <tr>\n",
       "      <th>1</th>\n",
       "      <td>2</td>\n",
       "      <td>0</td>\n",
       "    </tr>\n",
       "    <tr>\n",
       "      <th>2</th>\n",
       "      <td>3</td>\n",
       "      <td>9</td>\n",
       "    </tr>\n",
       "    <tr>\n",
       "      <th>3</th>\n",
       "      <td>4</td>\n",
       "      <td>9</td>\n",
       "    </tr>\n",
       "    <tr>\n",
       "      <th>4</th>\n",
       "      <td>5</td>\n",
       "      <td>3</td>\n",
       "    </tr>\n",
       "    <tr>\n",
       "      <th>...</th>\n",
       "      <td>...</td>\n",
       "      <td>...</td>\n",
       "    </tr>\n",
       "    <tr>\n",
       "      <th>27995</th>\n",
       "      <td>27996</td>\n",
       "      <td>9</td>\n",
       "    </tr>\n",
       "    <tr>\n",
       "      <th>27996</th>\n",
       "      <td>27997</td>\n",
       "      <td>7</td>\n",
       "    </tr>\n",
       "    <tr>\n",
       "      <th>27997</th>\n",
       "      <td>27998</td>\n",
       "      <td>3</td>\n",
       "    </tr>\n",
       "    <tr>\n",
       "      <th>27998</th>\n",
       "      <td>27999</td>\n",
       "      <td>9</td>\n",
       "    </tr>\n",
       "    <tr>\n",
       "      <th>27999</th>\n",
       "      <td>28000</td>\n",
       "      <td>2</td>\n",
       "    </tr>\n",
       "  </tbody>\n",
       "</table>\n",
       "<p>28000 rows × 2 columns</p>\n",
       "</div>"
      ],
      "text/plain": [
       "       ImageId  Label\n",
       "0            1      2\n",
       "1            2      0\n",
       "2            3      9\n",
       "3            4      9\n",
       "4            5      3\n",
       "...        ...    ...\n",
       "27995    27996      9\n",
       "27996    27997      7\n",
       "27997    27998      3\n",
       "27998    27999      9\n",
       "27999    28000      2\n",
       "\n",
       "[28000 rows x 2 columns]"
      ]
     },
     "execution_count": 37,
     "metadata": {},
     "output_type": "execute_result"
    }
   ],
   "source": [
    "df"
   ]
  },
  {
   "cell_type": "code",
   "execution_count": 38,
   "metadata": {},
   "outputs": [],
   "source": [
    "#df.to_csv('sample_submission.csv', index=False)"
   ]
  },
  {
   "cell_type": "markdown",
   "metadata": {},
   "source": [
    "# Live Testing"
   ]
  },
  {
   "cell_type": "code",
   "execution_count": 39,
   "metadata": {},
   "outputs": [],
   "source": [
    "import time\n",
    "import cv2"
   ]
  },
  {
   "cell_type": "code",
   "execution_count": 102,
   "metadata": {},
   "outputs": [
    {
     "name": "stdout",
     "output_type": "stream",
     "text": [
      "frame_1.png written!\n",
      "Escape hit, closing...\n"
     ]
    }
   ],
   "source": [
    "cam = cv2.VideoCapture(0)\n",
    "cv2.namedWindow(\"test\")\n",
    "img_counter = 0\n",
    "\n",
    "while True:\n",
    "    ret, frame = cam.read()\n",
    "    if not ret:\n",
    "        print(\"failed to grab frame\")\n",
    "        break\n",
    "    cv2.imshow(\"test\", frame)\n",
    "\n",
    "    k = cv2.waitKey(1)\n",
    "    if k%256 == 27:\n",
    "        # ESC pressed\n",
    "        print(\"Escape hit, closing...\")\n",
    "        break\n",
    "    elif k%256 == 32:\n",
    "        # SPACE pressed\n",
    "        img_name = \"frame_1.png\".format(img_counter)\n",
    "        cv2.imwrite(img_name, frame)\n",
    "        print(\"{} written!\".format(img_name))\n",
    "        img_counter += 1\n",
    "\n",
    "cam.release()\n",
    "\n",
    "cv2.destroyAllWindows()"
   ]
  },
  {
   "cell_type": "code",
   "execution_count": 105,
   "metadata": {},
   "outputs": [],
   "source": [
    "test_img = cv2.imread(\"C:/Users/Siddhant/Data Science/Digit-Recognizer/frame_1.png\") "
   ]
  },
  {
   "cell_type": "code",
   "execution_count": 106,
   "metadata": {},
   "outputs": [
    {
     "data": {
      "text/plain": [
       "(480, 640, 3)"
      ]
     },
     "execution_count": 106,
     "metadata": {},
     "output_type": "execute_result"
    }
   ],
   "source": [
    "test_img.shape"
   ]
  },
  {
   "cell_type": "code",
   "execution_count": 107,
   "metadata": {},
   "outputs": [
    {
     "data": {
      "text/plain": [
       "<matplotlib.image.AxesImage at 0x1f422512160>"
      ]
     },
     "execution_count": 107,
     "metadata": {},
     "output_type": "execute_result"
    },
    {
     "data": {
      "image/png": "[encoded data removed]",
      "text/plain": [
       "<Figure size 432x288 with 1 Axes>"
      ]
     },
     "metadata": {
      "needs_background": "light"
     },
     "output_type": "display_data"
    }
   ],
   "source": [
    "plt.imshow(test_img)"
   ]
  },
  {
   "cell_type": "code",
   "execution_count": 108,
   "metadata": {},
   "outputs": [],
   "source": [
    "test_img = cv2.resize(test_img, (28,28))"
   ]
  },
  {
   "cell_type": "code",
   "execution_count": 109,
   "metadata": {},
   "outputs": [],
   "source": [
    "gray = cv2.cvtColor(test_img, cv2.COLOR_BGR2GRAY)"
   ]
  },
  {
   "cell_type": "code",
   "execution_count": 110,
   "metadata": {},
   "outputs": [],
   "source": [
    "gray_r = np.reshape(gray,(28,28,1))"
   ]
  },
  {
   "cell_type": "code",
   "execution_count": 111,
   "metadata": {},
   "outputs": [
    {
     "data": {
      "text/plain": [
       "(28, 28, 1)"
      ]
     },
     "execution_count": 111,
     "metadata": {},
     "output_type": "execute_result"
    }
   ],
   "source": [
    "gray_rs = gray_r.round(2)\n",
    "gray_rs.shape"
   ]
  },
  {
   "cell_type": "code",
   "execution_count": 112,
   "metadata": {},
   "outputs": [
    {
     "data": {
      "text/plain": [
       "<matplotlib.image.AxesImage at 0x1f422556ee0>"
      ]
     },
     "execution_count": 112,
     "metadata": {},
     "output_type": "execute_result"
    },
    {
     "data": {
      "image/png": "[encoded data removed]",
      "text/plain": [
       "<Figure size 432x288 with 1 Axes>"
      ]
     },
     "metadata": {
      "needs_background": "light"
     },
     "output_type": "display_data"
    }
   ],
   "source": [
    "plt.imshow(gray_rs)"
   ]
  },
  {
   "cell_type": "code",
   "execution_count": 113,
   "metadata": {},
   "outputs": [],
   "source": [
    "#del model\n",
    "from tensorflow.keras.models import load_model"
   ]
  },
  {
   "cell_type": "code",
   "execution_count": 114,
   "metadata": {},
   "outputs": [],
   "source": [
    "Digit_Rec_Model = load_model('Digit_Recog.h5')"
   ]
  },
  {
   "cell_type": "code",
   "execution_count": 115,
   "metadata": {},
   "outputs": [
    {
     "name": "stdout",
     "output_type": "stream",
     "text": [
      "WARNING:tensorflow:5 out of the last 11 calls to <function Model.make_predict_function.<locals>.predict_function at 0x000001F4225AE9D0> triggered tf.function retracing. Tracing is expensive and the excessive number of tracings could be due to (1) creating @tf.function repeatedly in a loop, (2) passing tensors with different shapes, (3) passing Python objects instead of tensors. For (1), please define your @tf.function outside of the loop. For (2), @tf.function has experimental_relax_shapes=True option that relaxes argument shapes that can avoid unnecessary retracing. For (3), please refer to https://www.tensorflow.org/guide/function#controlling_retracing and https://www.tensorflow.org/api_docs/python/tf/function for  more details.\n",
      "[[0. 0. 0. 1. 0. 0. 0. 0. 0. 0.]]\n",
      "1.0\n",
      "(array([0], dtype=int64), array([3], dtype=int64))\n"
     ]
    }
   ],
   "source": [
    "prob = Digit_Rec_Model.predict(np.array([gray_rs,]))\n",
    "print(prob)\n",
    "print(max(prob[0]))\n",
    "print(np.where(prob == max(prob[0])))"
   ]
  },
  {
   "cell_type": "code",
   "execution_count": 116,
   "metadata": {},
   "outputs": [
    {
     "data": {
      "text/plain": [
       "array([3], dtype=int64)"
      ]
     },
     "execution_count": 116,
     "metadata": {},
     "output_type": "execute_result"
    }
   ],
   "source": [
    "pred = Digit_Rec_Model.predict_classes(np.array([gray_rs,]))\n",
    "pred"
   ]
  },
  {
   "cell_type": "code",
   "execution_count": 117,
   "metadata": {},
   "outputs": [
    {
     "name": "stdout",
     "output_type": "stream",
     "text": [
      "\n",
      "\t Char No :  [3]\n"
     ]
    },
    {
     "data": {
      "image/png": "[encoded data removed]",
      "text/plain": [
       "<Figure size 432x288 with 1 Axes>"
      ]
     },
     "metadata": {
      "needs_background": "light"
     },
     "output_type": "display_data"
    }
   ],
   "source": [
    "plt.imshow(gray_r)\n",
    "#print(\"\\t Prob : \",y_prob[i])\n",
    "print(\"\\n\\t Char No : \",pred)"
   ]
  },
  {
   "cell_type": "code",
   "execution_count": null,
   "metadata": {},
   "outputs": [],
   "source": []
  }
 ],
 "metadata": {
  "kernelspec": {
   "display_name": "Python 3",
   "language": "python",
   "name": "python3"
  },
  "language_info": {
   "codemirror_mode": {
    "name": "ipython",
    "version": 3
   },
   "file_extension": ".py",
   "mimetype": "text/x-python",
   "name": "python",
   "nbconvert_exporter": "python",
   "pygments_lexer": "ipython3",
   "version": "3.8.3"
  }
 },
 "nbformat": 4,
 "nbformat_minor": 4
}
